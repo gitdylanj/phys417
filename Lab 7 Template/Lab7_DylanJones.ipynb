{
  "cells": [
    {
      "cell_type": "markdown",
      "metadata": {
        "id": "HAG_CYXTSXpe"
      },
      "source": [
        "# Lab 7 Report: Dylan Jones\n",
        "## German-to-English Translation with Attention-Mechanism Transformer Model"
      ]
    },
    {
      "cell_type": "code",
      "source": [
        "# !pip install torchtext\n",
        "# import locale\n",
        "# def getpreferredencoding(do_setlocale = True):\n",
        "#     return \"UTF-8\"\n",
        "# locale.getpreferredencoding = getpreferredencoding\n",
        "# !python -m spacy download en_core_web_sm\n",
        "# !python -m spacy download de_core_news_sm"
      ],
      "metadata": {
        "id": "P_GvKMYESck9"
      },
      "execution_count": 44,
      "outputs": []
    },
    {
      "cell_type": "code",
      "execution_count": 45,
      "metadata": {
        "id": "4wCj4DlISXpg"
      },
      "outputs": [],
      "source": [
        "%matplotlib inline\n",
        "\n",
        "import numpy as np\n",
        "import math\n",
        "import matplotlib.pyplot as plt\n",
        "import pandas as pd \n",
        "import seaborn as sns\n",
        "from typing import Iterable, List\n",
        "from timeit import default_timer as timer\n",
        "\n",
        "import torch\n",
        "import torch.nn as nn\n",
        "from torch.nn import Transformer\n",
        "from torch import Tensor\n",
        "\n",
        "from torchtext.data.utils import get_tokenizer\n",
        "from torchtext.vocab import build_vocab_from_iterator\n",
        "from torch.utils.data import DataLoader\n",
        "from torch.nn.utils.rnn import pad_sequence\n",
        "\n",
        "# Initialize your numpy and pytorch random seeds for reproducibility \n",
        "np.random.seed(0)\n",
        "torch.manual_seed(0)\n",
        "# Create a torch.device object to tell pytorch where to store your tensors: cpu or gpu\n",
        "DEVICE = torch.device('cuda' if torch.cuda.is_available() else 'cpu')"
      ]
    },
    {
      "cell_type": "code",
      "execution_count": 46,
      "metadata": {
        "id": "S4V4igkOSXph"
      },
      "outputs": [],
      "source": [
        "from IPython.display import Image # For displaying images in colab jupyter cell"
      ]
    },
    {
      "cell_type": "code",
      "execution_count": 47,
      "metadata": {
        "id": "4jx88e7hSXph"
      },
      "outputs": [],
      "source": [
        "# Image('lab7_exercise.png', width = 1000)"
      ]
    },
    {
      "cell_type": "code",
      "execution_count": 48,
      "metadata": {
        "id": "XyOILSJRSXph"
      },
      "outputs": [],
      "source": [
        "# Seaborn plot styling\n",
        "sns.set(style = 'white', font_scale = 2)"
      ]
    },
    {
      "cell_type": "markdown",
      "metadata": {
        "id": "GvfMHFtJSXpi"
      },
      "source": [
        "## Download data"
      ]
    },
    {
      "cell_type": "code",
      "execution_count": 49,
      "metadata": {
        "id": "xuJ_VDtRSXpi"
      },
      "outputs": [],
      "source": [
        "# Load the data and store it as a list of tuples: each element in the list should be a tuple of the form (german_sentence, english_sentence)\n",
        "data_pairs = []\n",
        "with open('de_to_en.txt', \"r\", encoding=\"utf-8\") as f:\n",
        "  lines = f.read().split(\"\\n\")\n",
        "\n",
        "for line in lines:\n",
        "  appendage = line.split('\\t')\n",
        "  data_pairs.append(appendage)\n"
      ]
    },
    {
      "cell_type": "markdown",
      "metadata": {
        "id": "EzaSi7RHSXpi"
      },
      "source": [
        "## Let's see what the data looks like"
      ]
    },
    {
      "cell_type": "code",
      "execution_count": 50,
      "metadata": {
        "colab": {
          "base_uri": "https://localhost:8080/"
        },
        "id": "iy18OLWOSXpi",
        "outputId": "8dafe28a-a63d-4e73-a4d8-d8ef492cffc3"
      },
      "outputs": [
        {
          "output_type": "stream",
          "name": "stdout",
          "text": [
            "Zwei junge weiße Männer sind im Freien in der Nähe vieler Büsche. Two young, White males are outside near many bushes.\n",
            "Mehrere Männer mit Schutzhelmen bedienen ein Antriebsradsystem. Several men in hard hats are operating a giant pulley system.\n",
            "Ein kleines Mädchen klettert in ein Spielhaus aus Holz. A little girl climbing into a wooden playhouse.\n",
            "Ein Mann in einem blauen Hemd steht auf einer Leiter und putzt ein Fenster. A man in a blue shirt is standing on a ladder cleaning a window.\n",
            "Zwei Männer stehen am Herd und bereiten Essen zu. Two men are at the stove preparing food.\n",
            "Ein Mann in grün hält eine Gitarre, während der andere Mann sein Hemd ansieht. A man in green holds a guitar while the other man observes his shirt.\n",
            "Ein Mann lächelt einen ausgestopften Löwen an. A man is smiling at a stuffed lion\n",
            "Ein schickes Mädchen spricht mit dem Handy während sie langsam die Straße entlangschwebt. A trendy girl talking on her cellphone while gliding slowly down the street.\n",
            "Eine Frau mit einer großen Geldbörse geht an einem Tor vorbei. A woman with a large purse is walking by a gate.\n",
            "Jungen tanzen mitten in der Nacht auf Pfosten. Boys dancing on poles in the middle of the night.\n"
          ]
        }
      ],
      "source": [
        "# Print the first ten translated lines\n",
        "for i in range(10):\n",
        "  print(data_pairs[i][0], data_pairs[i][1])"
      ]
    },
    {
      "cell_type": "markdown",
      "metadata": {
        "id": "lcYI7vOSSXpi"
      },
      "source": [
        "## Create source and target language tokenizers"
      ]
    },
    {
      "cell_type": "markdown",
      "metadata": {
        "id": "Zi8CEqihSXpi"
      },
      "source": [
        "But first, what exactly is a *tokenizer*?\n",
        "\n",
        "A short but incomplete summary is that a tokenizer converts your text/string into a list of numerical values (a list of *tokens*). We performed tokenization in Lab 5 when we converted each alphanumeric character in our text into a number (an index in a dictionary). \n",
        "\n",
        "Here, the tokenization is a bit different. Instead of converting each *character* into a number, we want to convert each *word* into a number. As you can imagine, this means the vocabulary of our dataset - the set of unique tokens it contains - will be much larger. There are many more words in English than there are letters! This also means the value of each token will be more unique and meaningful.\n",
        "\n",
        "Part of tokenizing at the word level is the process of standardizing the text by converting it to lowercase, removing punctuation or special characters, and dealing with contractions or other language-specific features. This is sometimes called *stemming*, reflecting the fact that we want to only extract the *essential meaning* of each word - the \"stem\" - not necessarily the punctuation, prefixes, suffixes, etc. surrounding it.\n",
        "\n",
        "Luckily for us, there are some existing Python packages that do this automatically. The below cell downloads two different tokenizers (one each for the source and larget languages), and assigns them to appropriate keys within the \"token_transform\" dictionary. \n",
        "In Lab 5, you performed tokenization when you converted each character of the text into a specific number."
      ]
    },
    {
      "cell_type": "code",
      "execution_count": 51,
      "metadata": {
        "id": "rrPnHUQiSXpi"
      },
      "outputs": [],
      "source": [
        "# Define MACRO - a high-level variable that won't change throughout the duration of the code - for your source and target languages\n",
        "SRC_LANGUAGE = 'en'\n",
        "TGT_LANGUAGE = 'de'\n",
        "\n",
        "\n",
        "# Download the German and English tokenizers, and assign them to appropriate keys in your token_transform dictionary\n",
        "en_token_transform = get_tokenizer('spacy', language='en_core_web_sm')\n",
        "de_token_transform = get_tokenizer('spacy', language='de_core_news_sm')\n",
        "\n",
        "token_transform = {}\n",
        "token_transform[SRC_LANGUAGE] = en_token_transform\n",
        "token_transform[TGT_LANGUAGE] = de_token_transform\n",
        "\n",
        "\n",
        "\n"
      ]
    },
    {
      "cell_type": "markdown",
      "metadata": {
        "id": "FOBA2r_3SXpj"
      },
      "source": [
        "## Let's see what these specific tokenizers do."
      ]
    },
    {
      "cell_type": "code",
      "execution_count": 52,
      "metadata": {
        "colab": {
          "base_uri": "https://localhost:8080/"
        },
        "id": "u0OZWWSmSXpj",
        "outputId": "e084ef67-ce5b-4522-e7d5-242b5d10051d"
      },
      "outputs": [
        {
          "output_type": "stream",
          "name": "stdout",
          "text": [
            "['Two', 'young', ',', 'White', 'males', 'are', 'outside', 'near', 'many', 'bushes', '.']\n",
            "['Zwei', 'junge', 'weiße', 'Männer', 'sind', 'im', 'Freien', 'in', 'der', 'Nähe', 'vieler', 'Büsche', '.']\n"
          ]
        }
      ],
      "source": [
        "# Tokenize the first line of each dataset, and print the tokenized version of it\n",
        "en_0_tokenized = token_transform[SRC_LANGUAGE](data_pairs[0][1]) \n",
        "de_0_tokenized = token_transform[TGT_LANGUAGE](data_pairs[0][0]) \n",
        "\n",
        "print(en_0_tokenized) \n",
        "print(de_0_tokenized)"
      ]
    },
    {
      "cell_type": "markdown",
      "metadata": {
        "id": "qXGemO7RSXpj"
      },
      "source": [
        "## Create a vocabulary for each language's dataset"
      ]
    },
    {
      "cell_type": "markdown",
      "metadata": {
        "id": "iN7-5d_oSXpj"
      },
      "source": [
        "In Lab 5, we did this with a simple dictionary that mapped each character to an integer (and vice versa). However, PyTorch has a built-in dictionary object that provides some extra functionality. \n",
        "\n",
        "We will create this object using torchtext.data.build_vocab_from_iterator(). This function takes an iterator as input and returns a torchtext.vocab.Vocab object. This is a dictionary-like object that maps tokens to indices, but where it differs from a normal dictionary, is that its indices are assigned based on the frequency of the tokens in the dataset. For example, the most frequent token gets the index 0, the second most frequent gets the index 1, and so on. This frequency-index mapping saves a bunch of compute time and resources. \n",
        "\n",
        "\n",
        "Moreover, this time we will also have the four \"special\" tokens, that will always be assigned to the first four indices."
      ]
    },
    {
      "cell_type": "code",
      "execution_count": 53,
      "metadata": {
        "colab": {
          "base_uri": "https://localhost:8080/"
        },
        "id": "6Lyg7frhSXpj",
        "outputId": "8f7458d7-6988-4354-cefc-f5fba9c17f7f"
      },
      "outputs": [
        {
          "output_type": "stream",
          "name": "stdout",
          "text": [
            "['<unk>', '<pad>', '<bos>', '<eos>', '.', 'Ein', 'einem', 'in', 'und', ',', 'mit', 'auf', 'Mann', 'einer', 'Eine', 'ein', 'der', 'Frau', 'eine', 'die']\n",
            "['<unk>', '<pad>', '<bos>', '<eos>', 'a', '.', 'A', 'in', 'the', 'on', 'is', 'and', 'man', 'of', 'with', ',', 'woman', 'are', 'to', 'Two']\n"
          ]
        }
      ],
      "source": [
        "# Define a helper function that converts a list of strings into a list of lists-of-tokens\n",
        "\n",
        "def yield_tokens(data_iter, language):\n",
        "    language_index = {SRC_LANGUAGE: 0, TGT_LANGUAGE: 1}\n",
        "\n",
        "    for data_sample in data_iter:\n",
        "        try:\n",
        "          yield token_transform[language](data_sample[language_index[language]])\n",
        "        except IndexError:\n",
        "          print(f\"token_transform.keys(): {token_transform.keys()}\")\n",
        "          print(f\"language: {language}\")\n",
        "          print(f\"data_sample: {data_sample}\")\n",
        "          print(f\"language_index: {language_index}\")\n",
        "          raise IndexError\n",
        "\n",
        "# Define your special tokens and their indeces in your vocabulary\n",
        "special_tokens = ['<unk>', '<pad>', '<bos>', '<eos>']\n",
        "\n",
        "# Define your vocabulary for each language using the build_vocab_from_iterator function\n",
        "vocab_transform = {}\n",
        "for ln in [SRC_LANGUAGE, TGT_LANGUAGE]:\n",
        "    # Invoke torchtext's Vocab object\n",
        "    vocab_transform[ln] = build_vocab_from_iterator(yield_tokens(data_pairs, ln),\n",
        "                                                    min_freq=1,\n",
        "                                                    specials=special_tokens,\n",
        "                                                    special_first=True)\n",
        "\n",
        "# Set ``UNK_IDX`` as the default index. \n",
        "UNK_IDX, PAD_IDX, BOS_IDX, EOS_IDX = 0, 1, 2, 3\n",
        "\n",
        "# Let's see the first 20 words in each vocabulary\n",
        "for ln in [SRC_LANGUAGE, TGT_LANGUAGE]:\n",
        "  vocab_transform[ln].set_default_index(UNK_IDX)\n",
        "\n",
        "# Let's see the first 20 words in each vocabulary\n",
        "print(vocab_transform[SRC_LANGUAGE].get_itos()[:20])\n",
        "print(vocab_transform[TGT_LANGUAGE].get_itos()[:20])"
      ]
    },
    {
      "cell_type": "markdown",
      "metadata": {
        "id": "d9BOAzyKSXpj"
      },
      "source": [
        "## Train-Validate-Test split"
      ]
    },
    {
      "cell_type": "code",
      "execution_count": 54,
      "metadata": {
        "colab": {
          "base_uri": "https://localhost:8080/"
        },
        "id": "tnp52aEtSXpj",
        "outputId": "5b9abce6-9efd-44fe-9023-0a8a930f2ee7"
      },
      "outputs": [
        {
          "output_type": "stream",
          "name": "stdout",
          "text": [
            "31019 total pairs\n",
            "21713 training pairs\n",
            "6203 validation pairs\n",
            "3103 test pairs\n"
          ]
        }
      ],
      "source": [
        "# Shuffle the text pairs\n",
        "shuffler = np.random.permutation(len(data_pairs))\n",
        "data_pairs = [data_pairs[i] for i in shuffler]\n",
        "\n",
        "# Let's go for a 70-20-10 train-val-test split\n",
        "n_train = int(0.7*len(data_pairs))\n",
        "train_pairs = data_pairs[:n_train] \n",
        "\n",
        "n_val = int(0.2*len(data_pairs))\n",
        "val_pairs = data_pairs[n_train:n_train+n_val]\n",
        "\n",
        "n_test = int(0.1*len(data_pairs))\n",
        "test_pairs = data_pairs[n_train+n_val:]\n",
        "\n",
        "print(f\"{len(data_pairs)} total pairs\")\n",
        "print(f\"{len(train_pairs)} training pairs\")\n",
        "print(f\"{len(val_pairs)} validation pairs\")\n",
        "print(f\"{len(test_pairs)} test pairs\")"
      ]
    },
    {
      "cell_type": "markdown",
      "metadata": {
        "id": "HmVgdc7_SXpj"
      },
      "source": [
        "### Mask functions"
      ]
    },
    {
      "cell_type": "markdown",
      "metadata": {
        "id": "UavxFjWrSXpj"
      },
      "source": [
        "The mask function plays an essential role in the training of a transformer model, specifically during the pre-training phase when the model learns to understand and generate language. The two main purposes of the mask function are:\n",
        "\n",
        "1. To facilitate self-attention mechanism: Transformers use self-attention mechanisms to identify relationships between words in a sequence. Masking is used to prevent the model from \"cheating\" by looking at future tokens when trying to predict the current token. In other words, the mask function ensures that the model only attends to the current token and the previous tokens, not the future tokens, during the training process.\n",
        "\n",
        "2. To enable masked language modeling (MLM): Masked language modeling is a popular pre-training objective used in transformer-based models like BERT. In MLM, a certain percentage of input tokens are randomly masked (usually around 15%), and the model is tasked with predicting the original tokens at these masked positions. The mask function serves as a way of hiding the original token from the model, forcing it to learn contextual representations that can help it predict the masked tokens accurately.\n",
        "\n",
        "The use of the mask function in both self-attention and MLM helps the transformer model learn meaningful context-dependent representations, making it more effective at understanding and generating natural language."
      ]
    },
    {
      "cell_type": "code",
      "execution_count": 55,
      "metadata": {
        "id": "kh3JFEP6SXpk"
      },
      "outputs": [],
      "source": [
        "# Define your masking function\n",
        "def generate_square_subsequent_mask(sz): \n",
        "    mask = (torch.triu(torch.ones((sz, sz), device=DEVICE)) == 1).transpose(0, 1)\n",
        "    mask = mask.float().masked_fill(mask == 0, float('-inf')).masked_fill(mask == 1, float(0.0))\n",
        "    return mask\n",
        "\n",
        "# Mask function\n",
        "def create_mask(src, tgt):\n",
        "    src_seq_len = src.shape[0]\n",
        "    tgt_seq_len = tgt.shape[0]\n",
        "\n",
        "    tgt_mask = generate_square_subsequent_mask(tgt_seq_len)\n",
        "    src_mask = torch.zeros((src_seq_len, src_seq_len),device=DEVICE).type(torch.bool)\n",
        "\n",
        "    src_padding_mask = (src == PAD_IDX).transpose(0, 1)\n",
        "    tgt_padding_mask = (tgt == PAD_IDX).transpose(0, 1)\n",
        "    return src_mask, tgt_mask, src_padding_mask, tgt_padding_mask"
      ]
    },
    {
      "cell_type": "markdown",
      "metadata": {
        "id": "4k0smF6ySXpk"
      },
      "source": [
        "## Collation\n",
        "\n",
        "The collation function is what converts our strings into batches of tensors that can be processed by our model, based on the vocabularies and tokenization functions we have built up thus far. \n",
        "\n",
        "Again, this is something we can do manually, but at some point the data transformations get so complicated that we might as well put them all into a function. Moreover, defining our transformation as a *function* allows us to use some more built-in PyTorch functionality that makes our jobs a whole lot easier. See: torch.utils.data.DataLoader. "
      ]
    },
    {
      "cell_type": "code",
      "execution_count": 56,
      "metadata": {
        "id": "FF_VDBM0SXpk"
      },
      "outputs": [],
      "source": [
        "# Define helper function to club together sequential operations\n",
        "def sequential_transforms(*transforms): \n",
        "    def func(txt_input):\n",
        "        for transform in transforms:\n",
        "            txt_input = transform(txt_input)\n",
        "        return txt_input\n",
        "    return func\n",
        "\n",
        "# Define function to add BOS/EOS and create a tensor for input sequence indices\n",
        "def tensor_transform(token_ids):\n",
        "    return torch.cat((torch.tensor([BOS_IDX]),\n",
        "                      torch.tensor(token_ids),\n",
        "                      torch.tensor([EOS_IDX])))\n",
        "\n",
        "# Define your ``src`` and ``tgt`` language text transforms to convert raw strings into tensors indices\n",
        "text_transform = {} \n",
        "for ln in [SRC_LANGUAGE, TGT_LANGUAGE]:\n",
        "    text_transform[ln] = sequential_transforms(token_transform[ln], #Tokenization\n",
        "                                               vocab_transform[ln], #Numericalization\n",
        "                                               tensor_transform) # Add BOS/EOS and create tensor\n",
        "\n",
        "# Define your \"collation\" function to collate data samples into batch tensors\n",
        "def collate_fn(batch):\n",
        "    src_batch, tgt_batch = [], []\n",
        "    for src_sample, tgt_sample in batch:\n",
        "        src_batch.append(text_transform[SRC_LANGUAGE](src_sample.rstrip(\"\\n\")))\n",
        "        tgt_batch.append(text_transform[TGT_LANGUAGE](tgt_sample.rstrip(\"\\n\")))\n",
        "\n",
        "    src_batch = pad_sequence(src_batch, padding_value=PAD_IDX)\n",
        "    tgt_batch = pad_sequence(tgt_batch, padding_value=PAD_IDX)\n",
        "    return src_batch, tgt_batch"
      ]
    },
    {
      "cell_type": "markdown",
      "metadata": {
        "id": "OPdDd96aSXpk"
      },
      "source": [
        "# Define training, evaluation functions"
      ]
    },
    {
      "cell_type": "markdown",
      "metadata": {
        "id": "52WyuBLRSXpk"
      },
      "source": [
        "Modularization is the name of the game.\n",
        "\n",
        "Not only does this help us here, but if you ever need to train a similar model in the future, you can simply import the ones defined here! \n",
        "\n",
        "For example, imagine this was a Python script and not a notebook, and the filename was \"german_to_english_transformer.py\" Then, in whichever future script or notebook you wish to use these functions, you could simply call:\n",
        "\"from german_to_english_transformer import train_epoch, evaluate\""
      ]
    },
    {
      "cell_type": "code",
      "execution_count": 57,
      "metadata": {
        "id": "qeVgceSnSXpk"
      },
      "outputs": [],
      "source": [
        "# Define a function to train the model for a single epoch\n",
        "def train_epoch(model, optimizer):\n",
        "    model.train()\n",
        "    loss_list = []\n",
        "    train_iter = train_pairs\n",
        "    train_dataloader = DataLoader(train_iter, batch_size=BATCH_SIZE, collate_fn=collate_fn)\n",
        "\n",
        "    for src, tgt in train_dataloader:\n",
        "        src = src.to(DEVICE)\n",
        "        tgt = tgt.to(DEVICE)\n",
        "\n",
        "        tgt_input = tgt[:-1, :]\n",
        "\n",
        "        # Since we're training, recall we need to mask our input\n",
        "        src_mask, tgt_mask, src_padding_mask, tgt_padding_mask = create_mask(src, tgt_input)\n",
        "\n",
        "        # What do you think the model does with the masks when it's in evaluation mode?\n",
        "        logits = model(src, tgt_input, src_mask, tgt_mask,src_padding_mask, tgt_padding_mask, src_padding_mask)\n",
        "\n",
        "        optimizer.zero_grad()\n",
        "\n",
        "        tgt_out = tgt[1:, :]\n",
        "        loss = loss_fn(logits.reshape(-1, logits.shape[-1]), tgt_out.reshape(-1))\n",
        "        loss.backward()\n",
        "\n",
        "        optimizer.step()\n",
        "        loss_list.append(loss.item())\n",
        "\n",
        "    return loss_list\n",
        "# Define a function to evaluate the model\n",
        "# Evaluates the model\n",
        "def evaluate(model):\n",
        "    model.eval()\n",
        "    loss_list = []\n",
        "\n",
        "    val_iter = val_pairs\n",
        "    val_dataloader = DataLoader(val_iter, batch_size=BATCH_SIZE, collate_fn=collate_fn)\n",
        "\n",
        "    for src, tgt in val_dataloader:\n",
        "        src = src.to(DEVICE)\n",
        "        tgt = tgt.to(DEVICE)\n",
        "\n",
        "        tgt_input = tgt[:-1, :]\n",
        "\n",
        "        src_mask, tgt_mask, src_padding_mask, tgt_padding_mask = create_mask(src, tgt_input)\n",
        "\n",
        "        logits = model(src, tgt_input, src_mask, tgt_mask,src_padding_mask, tgt_padding_mask, src_padding_mask)\n",
        "\n",
        "        tgt_out = tgt[1:, :]\n",
        "        loss = loss_fn(logits.reshape(-1, logits.shape[-1]), tgt_out.reshape(-1))\n",
        "        loss_list.append(loss.item())\n",
        "\n",
        "    return loss_list"
      ]
    },
    {
      "cell_type": "markdown",
      "metadata": {
        "id": "oBmGx5mhSXpk"
      },
      "source": [
        "## Define model"
      ]
    },
    {
      "cell_type": "code",
      "execution_count": 58,
      "metadata": {
        "id": "rZsMAGaSSXpk"
      },
      "outputs": [],
      "source": [
        "# Define the PositionalEncoding module that quantifies the relative position of words in a sentence\n",
        "# Notice that this is not actually an MLP or neural network, i.e. it has no learned parameters\n",
        "# it is just a function that you could represent analytically, if you wanted to\n",
        "class PositionalEncoding(nn.Module): # <-- \"Embedding\"\n",
        "    def __init__(self, emb_size, dropout, maxlen = 5000):\n",
        "        super(PositionalEncoding, self).__init__()\n",
        "        den = torch.exp(- torch.arange(0, emb_size, 2)* math.log(10000) / emb_size)\n",
        "        pos = torch.arange(0, maxlen).reshape(maxlen, 1)\n",
        "        pos_embedding = torch.zeros((maxlen, emb_size))\n",
        "        pos_embedding[:, 0::2] = torch.sin(pos * den)\n",
        "        pos_embedding[:, 1::2] = torch.cos(pos * den)\n",
        "        pos_embedding = pos_embedding.unsqueeze(-2)\n",
        "\n",
        "        self.dropout = nn.Dropout(dropout)\n",
        "        self.register_buffer('pos_embedding', pos_embedding)\n",
        "\n",
        "    def forward(self, token_embedding: Tensor):\n",
        "        return self.dropout(token_embedding + self.pos_embedding[:token_embedding.size(0), :])\n",
        "\n",
        "# Define the TokenEmbedding module converts a tensor of vocabulary-indices into a tensor of token-embeddings\n",
        "# Also not a neural network, but a lookup table\n",
        "class TokenEmbedding(nn.Module):\n",
        "    def __init__(self, vocab_size, emb_size):\n",
        "        super(TokenEmbedding, self).__init__()\n",
        "        self.embedding = nn.Embedding(vocab_size, emb_size)\n",
        "        self.emb_size = emb_size\n",
        "\n",
        "    def forward(self, tokens: Tensor):\n",
        "        return self.embedding(tokens.long()) * math.sqrt(self.emb_size)\n",
        "# Define the actual transformer model\n",
        "# Question: What are we \"transforming\" between?\n",
        "class Seq2SeqTransformer(nn.Module):\n",
        "    def __init__(self,\n",
        "                 num_encoder_layers,\n",
        "                 num_decoder_layers,\n",
        "                 embedding_size,\n",
        "                 num_heads,\n",
        "                 src_vocab_size,\n",
        "                 tgt_vocab_size,\n",
        "                 dim_feedforward = 512,\n",
        "                 dropout = 0.1):\n",
        "        super(Seq2SeqTransformer, self).__init__()\n",
        "        self.transformer = Transformer(d_model=embedding_size,\n",
        "                                       nhead=num_heads,\n",
        "                                       num_encoder_layers=num_encoder_layers,\n",
        "                                       num_decoder_layers=num_decoder_layers,\n",
        "                                       dim_feedforward=dim_feedforward,\n",
        "                                       dropout=dropout)\n",
        "        self.generator = nn.Linear(embedding_size, tgt_vocab_size)\n",
        "        self.src_tok_emb = TokenEmbedding(src_vocab_size, embedding_size)\n",
        "        self.tgt_tok_emb = TokenEmbedding(tgt_vocab_size, embedding_size)\n",
        "        self.positional_encoding = PositionalEncoding(\n",
        "            embedding_size, dropout=dropout)\n",
        "\n",
        "    def forward(self,\n",
        "                src,\n",
        "                trg,\n",
        "                src_mask,\n",
        "                tgt_mask,\n",
        "                src_padding_mask,\n",
        "                tgt_padding_mask,\n",
        "                memory_key_padding_mask):\n",
        "        src_emb = self.positional_encoding(self.src_tok_emb(src)) # source sequence --> token embedding --> positional encoding\n",
        "        tgt_emb = self.positional_encoding(self.tgt_tok_emb(trg)) # target sequence --> token embedding --> positional encoding\n",
        "        outs = self.transformer(src_emb, tgt_emb, src_mask, tgt_mask, None, \n",
        "                                src_padding_mask, tgt_padding_mask, memory_key_padding_mask)\n",
        "        return self.generator(outs)\n",
        "\n",
        "    def encode(self, src: Tensor, src_mask: Tensor):\n",
        "        return self.transformer.encoder(self.positional_encoding(\n",
        "                            self.src_tok_emb(src)), src_mask)\n",
        "\n",
        "    def decode(self, tgt: Tensor, memory: Tensor, tgt_mask: Tensor):\n",
        "        return self.transformer.decoder(self.positional_encoding(\n",
        "                          self.tgt_tok_emb(tgt)), memory,\n",
        "                          tgt_mask)"
      ]
    },
    {
      "cell_type": "code",
      "source": [
        "# Question: What are we \"transforming\" between?\n",
        "\n",
        "# The transformer 'transforms' tokens between the input embedding to the output embedding, in this\n",
        "# case english to german embedding.  \n"
      ],
      "metadata": {
        "id": "ozLfsJcIqBo1"
      },
      "execution_count": null,
      "outputs": []
    },
    {
      "cell_type": "markdown",
      "metadata": {
        "id": "3UKzZrMoSXpk"
      },
      "source": [
        "## Question #2: What's the significance of the \"num_heads\" parameter in the __init__ function of the Seq2SeqTransformer above?"
      ]
    },
    {
      "cell_type": "markdown",
      "metadata": {
        "id": "zU7-c6xZSXpk"
      },
      "source": [
        "The num heads parameter determines the number of attention heads the transformer uses. This allows parallel computation of the attention mechanism and allows the model to learn more complex relationsips between words in the sequence. "
      ]
    },
    {
      "cell_type": "markdown",
      "metadata": {
        "id": "2iztOSECSXpl"
      },
      "source": [
        "## Question #3: In less detail, state the significance of these other two parameters:"
      ]
    },
    {
      "cell_type": "markdown",
      "metadata": {
        "id": "8rZYmJNSSXpl"
      },
      "source": [
        "1. embedding_size: the number of expected features in input of the encoder and decoder\n",
        "2. src_vocab_size: how many tokens are in the source langauge (number of words)"
      ]
    },
    {
      "cell_type": "markdown",
      "metadata": {
        "id": "U2z34nLRSXpl"
      },
      "source": [
        "## Define hyperparameters"
      ]
    },
    {
      "cell_type": "code",
      "execution_count": 59,
      "metadata": {
        "id": "gyG9Que_SXpl"
      },
      "outputs": [],
      "source": [
        "# Define your hyperparameters\n",
        "SRC_VOCAB_SIZE = len(vocab_transform[SRC_LANGUAGE]) \n",
        "TGT_VOCAB_SIZE = len(vocab_transform[TGT_LANGUAGE])\n",
        "EMB_SIZE = 512\n",
        "NUM_HEADS = 8 # Why 8? What do you expect to happen if we increase this parameter?\n",
        "FFN_HID_DIM = 512 \n",
        "BATCH_SIZE = 32\n",
        "NUM_ENCODER_LAYERS = 3\n",
        "NUM_DECODER_LAYERS = 3\n",
        "NUM_EPOCHS = 6\n",
        "\n",
        "# Define your model, loss function, and optimizer\n",
        "transformer = Seq2SeqTransformer(NUM_ENCODER_LAYERS, NUM_DECODER_LAYERS, EMB_SIZE,\n",
        "                                 NUM_HEADS, SRC_VOCAB_SIZE, TGT_VOCAB_SIZE, FFN_HID_DIM)\n",
        "\n",
        "for p in transformer.parameters():\n",
        "    if p.dim() > 1:\n",
        "        nn.init.xavier_uniform_(p)\n",
        "\n",
        "transformer = transformer.to(DEVICE)\n",
        "\n",
        "loss_fn = torch.nn.CrossEntropyLoss(ignore_index=PAD_IDX)\n",
        "\n",
        "optimizer = torch.optim.Adam(transformer.parameters(), lr=0.0001, betas=(0.9, 0.98), eps=1e-9)"
      ]
    },
    {
      "cell_type": "markdown",
      "metadata": {
        "id": "W2cjNrJESXpl"
      },
      "source": [
        "## Identify tracked values"
      ]
    },
    {
      "cell_type": "code",
      "execution_count": 60,
      "metadata": {
        "id": "vjhCOZKCSXpl"
      },
      "outputs": [],
      "source": [
        "train_loss_list = []\n",
        "val_loss_list = []"
      ]
    },
    {
      "cell_type": "markdown",
      "metadata": {
        "id": "G5lN3BiRSXpl"
      },
      "source": [
        "## Train the model"
      ]
    },
    {
      "cell_type": "code",
      "execution_count": 61,
      "metadata": {
        "colab": {
          "base_uri": "https://localhost:8080/"
        },
        "id": "t993KTSASXpl",
        "outputId": "b2066d18-0f71-4530-83da-1052cfbbbd8d"
      },
      "outputs": [
        {
          "output_type": "stream",
          "name": "stdout",
          "text": [
            "Epoch: 1, Epoch time = 34.706s\n",
            "Epoch: 2, Epoch time = 35.428s\n",
            "Epoch: 3, Epoch time = 34.930s\n",
            "Epoch: 4, Epoch time = 35.180s\n",
            "Epoch: 5, Epoch time = 35.102s\n",
            "Epoch: 6, Epoch time = 35.134s\n"
          ]
        }
      ],
      "source": [
        "# Train your model\n",
        "for epoch in range(1, NUM_EPOCHS+1):\n",
        "    start_time = timer()\n",
        "    train_loss = train_epoch(transformer, optimizer)\n",
        "    train_loss_list.extend(train_loss)\n",
        "    end_time = timer()\n",
        "    val_loss = evaluate(transformer)\n",
        "    val_loss_list.extend(val_loss)\n",
        "    print((f\"Epoch: {epoch}, Epoch time = {(end_time - start_time):.3f}s\"))\n",
        "\n",
        "# Fair warning: you might get an \"out of memory\" error\n",
        "# If that happens, try reducing the batch size"
      ]
    },
    {
      "cell_type": "markdown",
      "metadata": {
        "id": "0Ci-F2pxSXpq"
      },
      "source": [
        "## Visualize and Evaluate the model"
      ]
    },
    {
      "cell_type": "code",
      "execution_count": 62,
      "metadata": {
        "colab": {
          "base_uri": "https://localhost:8080/",
          "height": 694
        },
        "id": "6GDF-cBxSXpq",
        "outputId": "f1936444-6c52-4a01-90b0-59cf17601a67"
      },
      "outputs": [
        {
          "output_type": "stream",
          "name": "stderr",
          "text": [
            "WARNING:matplotlib.legend:No artists with labels found to put in legend.  Note that artists whose label start with an underscore are ignored when legend() is called with no argument.\n"
          ]
        },
        {
          "output_type": "display_data",
          "data": {
            "text/plain": [
              "<Figure size 1200x700 with 1 Axes>"
            ],
            "image/png": "[encoded data removed]"
          },
          "metadata": {}
        }
      ],
      "source": [
        "# Plot the loss\n",
        "plt.figure(figsize = (12, 7))\n",
        "\n",
        "plt.scatter(range(len(train_loss_list)), train_loss_list, color = 'blue', linewidth = 3, alpha=0.1)\n",
        "plt.ylabel(\"Training Loss\")\n",
        "plt.xlabel(\"Epoch\")\n",
        "plt.xticks(ticks = [(i+1)*len(train_loss_list)//NUM_EPOCHS for i in range(NUM_EPOCHS)], labels=[f\"{i+1}\" for i in range(NUM_EPOCHS)])\n",
        "plt.legend()\n",
        "sns.despine()"
      ]
    },
    {
      "cell_type": "code",
      "execution_count": 63,
      "metadata": {
        "id": "grZ0yJGgSXpr"
      },
      "outputs": [],
      "source": [
        "# Define a decode function to generate output sequence using greedy algorithm\n",
        "# This basically saves us some compute time by taking a bunch of shortcuts (e.g. not computing the full softmax)\n",
        "def greedy_decode(model, src, src_mask, max_len, start_symbol):\n",
        "    src = src.to(DEVICE)\n",
        "    src_mask = src_mask.to(DEVICE)\n",
        "\n",
        "    memory = model.encode(src, src_mask)\n",
        "    ys = torch.ones(1, 1).fill_(start_symbol).type(torch.long).to(DEVICE)\n",
        "    for i in range(max_len-1):\n",
        "        memory = memory.to(DEVICE)\n",
        "        tgt_mask = (generate_square_subsequent_mask(ys.size(0))\n",
        "                    .type(torch.bool)).to(DEVICE)\n",
        "        out = model.decode(ys, memory, tgt_mask)\n",
        "        out = out.transpose(0, 1)\n",
        "        prob = model.generator(out[:, -1])\n",
        "        _, next_word = torch.max(prob, dim=1)\n",
        "        next_word = next_word.item()\n",
        "\n",
        "        ys = torch.cat([ys,\n",
        "                        torch.ones(1, 1).type_as(src.data).fill_(next_word)], dim=0)\n",
        "        if next_word == EOS_IDX:\n",
        "            break\n",
        "    return ys\n",
        "\n",
        "# Define a translation function that actually uses the model to translate a sentence from source to target\n",
        "def translate(model, src_sentence):\n",
        "    model.eval()\n",
        "    src = text_transform[SRC_LANGUAGE](src_sentence).view(-1, 1)\n",
        "    num_tokens = src.shape[0]\n",
        "    src_mask = (torch.zeros(num_tokens, num_tokens)).type(torch.bool)\n",
        "    tgt_tokens = greedy_decode(\n",
        "        model,  src, src_mask, max_len=num_tokens + 5, start_symbol=BOS_IDX).flatten()\n",
        "    return \" \".join(vocab_transform[TGT_LANGUAGE].lookup_tokens(list(tgt_tokens.cpu().numpy()))).replace(\"<bos>\", \"\").replace(\"<eos>\", \"\")"
      ]
    },
    {
      "cell_type": "markdown",
      "metadata": {
        "id": "a0PnVUofSXpr"
      },
      "source": [
        "## Let's try the model out on a few of our test sequences. Print the first 10 target/translated sequences from our test set"
      ]
    },
    {
      "cell_type": "code",
      "execution_count": 64,
      "metadata": {
        "colab": {
          "base_uri": "https://localhost:8080/"
        },
        "id": "fJL6gKVfSXpr",
        "outputId": "0a4c9fbb-0019-439b-c016-4a5f2857dc71"
      },
      "outputs": [
        {
          "output_type": "stream",
          "name": "stdout",
          "text": [
            "Target: A group of faithful shoppers bear the cold while one points to his favorite store.\n",
            "Model output:  A group of people are digging the same or in a parade while a crowd is showing his board . \n",
            "\n",
            "Target: I think the construction work is going on here.\n",
            "Model output:  An athlete , dressed , including the dirt track . \n",
            "\n",
            "Target: A motorcyclist speeding along a road on a green Kawasaki sport motorcycle.\n",
            "Model output:  A motorcycle rider riding a green trail in a green area . \n",
            "\n",
            "Target: Skater boy does a trick and gets his photo taken in midair.\n",
            "Model output:  A team of a trick and is being getting ready to take a picture . \n",
            "\n",
            "Target: People rock climbing and hiking near a lake.\n",
            "Model output:  A mountain biker and hiker near a lake . \n",
            "\n",
            "Target: A man and woman are in the kitchen and a package of Challenge butter is in the foreground.\n",
            "Model output:  A man and woman in the kitchen , one is standing in the foreground , and is standing in the foreground . \n",
            "\n",
            "Target: A white man is seen in a swimming pool floating above many floating devises.\n",
            "Model output:  A white man swims in a pool with many people in a pool . \n",
            "\n",
            "Target: A streetlight lit bridge with a cyclist and some cars.\n",
            "Model output:  A female biker with a bike and some cars are gathered . \n",
            "\n",
            "Target: People running a race and the guy in gray is in the lead.\n",
            "Model output:  People running and the man in gray performing . \n",
            "\n",
            "Target: Snowboarder wearing an orange jacket and carrying a sky-blue bag snowboards toward a previously traveled trail.\n",
            "Model output:  A snowboarder wearing an orange jacket and a bag carries a wooden bag on a wooden path . \n",
            "\n"
          ]
        }
      ],
      "source": [
        "for i in range(10):\n",
        "    test_pair = test_pairs[-i]\n",
        "    test_str_de = test_pair[0]\n",
        "    test_str_en = test_pair[1]\n",
        "    print(f\"Target: {test_str_en}\")\n",
        "    print(\"Model output:\", translate(transformer, test_str_de))\n",
        "    print(\"\")"
      ]
    }
  ],
  "metadata": {
    "kernelspec": {
      "display_name": "Python 3",
      "language": "python",
      "name": "python3"
    },
    "language_info": {
      "codemirror_mode": {
        "name": "ipython",
        "version": 3
      },
      "file_extension": ".py",
      "mimetype": "text/x-python",
      "name": "python",
      "nbconvert_exporter": "python",
      "pygments_lexer": "ipython3",
      "version": "3.8.16"
    },
    "orig_nbformat": 4,
    "colab": {
      "provenance": [],
      "gpuType": "T4"
    },
    "accelerator": "GPU",
    "gpuClass": "standard"
  },
  "nbformat": 4,
  "nbformat_minor": 0
}