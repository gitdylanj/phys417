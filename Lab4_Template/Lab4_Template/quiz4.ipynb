{
 "cells": [
  {
   "cell_type": "code",
   "execution_count": null,
   "metadata": {},
   "outputs": [],
   "source": [
    "import torch\n",
    "import numpy as np"
   ]
  },
  {
   "cell_type": "code",
   "execution_count": null,
   "metadata": {},
   "outputs": [],
   "source": [
    "class myCNNModel(torch.nn.Module):\n",
    "\n",
    "    def __init__(self):\n",
    "\n",
    "        super(myCNNModel, self).__init__()\n",
    "\n",
    "        self.cnn1 = torch.nn.Conv2d(in_channels=1, out_channels=16, stride=1, kernel_size=3, padding=0)\n",
    "        self.maxpool1 = torch.nn.MaxPool2d(kernel_size=2)\n",
    "        self.cnn2 = torch.nn.Conv2d(in_channels=16, out_channels=32, kernel_size=3, stride = 1, padding=0)\n",
    "        self.maxpool2 = torch.nn.MaxPool2d(kernel_size=2)\n",
    "        self.fc1 = torch.nn.Linear(in_features=800, out_features=10)\n",
    "\n",
    "        \n",
    "    def forward(self, x):\n",
    "\n",
    "        conv1_out = torch.nn.functional.relu(self.cnn1(x))\n",
    "        pool1_out = self.maxpool1(conv1_out)\n",
    "\n",
    "        conv2_out = torch.nn.functional.relu(self.cnn2(pool1_out))\n",
    "        pool2_out = self.maxpool2(conv2_out)\n",
    "\n",
    "        fc1_input = pool2_out.view(pool2_out.size(0), -1)\n",
    "\n",
    "        output = self.fc1(fc1_input)\n",
    "\n",
    "        return output\n",
    "\n",
    "\n"
   ]
  }
 ],
 "metadata": {
  "kernelspec": {
   "display_name": "phys417",
   "language": "python",
   "name": "python3"
  },
  "language_info": {
   "name": "python",
   "version": "3.9.16"
  },
  "orig_nbformat": 4
 },
 "nbformat": 4,
 "nbformat_minor": 2
}
