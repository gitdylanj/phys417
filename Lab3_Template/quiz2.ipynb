{
 "cells": [
  {
   "cell_type": "code",
   "execution_count": 1,
   "metadata": {},
   "outputs": [],
   "source": [
    "import torch"
   ]
  },
  {
   "cell_type": "code",
   "execution_count": null,
   "metadata": {},
   "outputs": [],
   "source": [
    "class myModel(torch.nn.Module):\n",
    "\n",
    "    def __init__(self):\n",
    "\n",
    "        super(myModel, self).__init__()\n",
    "\n",
    "        self.layer1 = torch.nn.Linear(10, 32)\n",
    "        self.layer2 = torch.nn.Linear(32, 16)\n",
    "        self.layer3 = torch.nn.Linear(16, 5)\n",
    "        self.dropout = torch.nn.Dropout(p = 0.3)\n",
    "    \n",
    "\n",
    "    def forward(self, x):\n",
    "\n",
    "\n",
    "        out1 = torch.nn.functional.sigmoid(self.layer1(x))\n",
    "        out2 = torch.nn.functional.sigmoid(self.layer2(out1))\n",
    "        out2 = self.dropout(out2)\n",
    "        out3 = torch.nn.functional.softmax(self.layer3(out2))\n",
    "\n",
    "        return out3\n"
   ]
  }
 ],
 "metadata": {
  "kernelspec": {
   "display_name": "phys417",
   "language": "python",
   "name": "python3"
  },
  "language_info": {
   "codemirror_mode": {
    "name": "ipython",
    "version": 3
   },
   "file_extension": ".py",
   "mimetype": "text/x-python",
   "name": "python",
   "nbconvert_exporter": "python",
   "pygments_lexer": "ipython3",
   "version": "3.9.16"
  },
  "orig_nbformat": 4
 },
 "nbformat": 4,
 "nbformat_minor": 2
}
